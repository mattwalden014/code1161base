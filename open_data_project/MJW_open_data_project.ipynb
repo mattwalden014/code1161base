{
 "cells": [
  {
   "cell_type": "markdown",
   "metadata": {
    "deletable": true,
    "editable": true
   },
   "source": [
    "# Nuclear Open Data"
   ]
  },
  {
   "cell_type": "markdown",
   "metadata": {
    "deletable": true,
    "editable": true
   },
   "source": [
    "Pulling data from safecast.org and doing stuff with it"
   ]
  },
  {
   "cell_type": "markdown",
   "metadata": {
    "deletable": true,
    "editable": true
   },
   "source": [
    "Imports go here"
   ]
  },
  {
   "cell_type": "code",
   "execution_count": 34,
   "metadata": {
    "collapsed": true,
    "deletable": true,
    "editable": true
   },
   "outputs": [],
   "source": [
    "import matplotlib\n",
    "import json\n",
    "import requests\n",
    "import gmplot\n",
    "import webbrowser\n",
    "import numpy"
   ]
  },
  {
   "cell_type": "markdown",
   "metadata": {
    "deletable": true,
    "editable": true
   },
   "source": [
    "API Call function"
   ]
  },
  {
   "cell_type": "code",
   "execution_count": 40,
   "metadata": {
    "collapsed": false,
    "deletable": true,
    "editable": true
   },
   "outputs": [],
   "source": [
    "def api_call(captured_after = \"2017-05-01+00%3A00\", captured_before = \"2017-05-02+00%3A00\"):\n",
    "    base_url = \"https://api.safecast.org/measurements.json\"\n",
    "    api_key = \"hj5Nam6xXLATGcvUpP14\"\n",
    "    call_url = base_url + \"?captured_after=\" + captured_after + \"&captured_before=\" + captured_before\n",
    "    # call_url = base_url + \"?api_key=\" + api_key\n",
    "    print call_url\n",
    "    r = requests.get(call_url)\n",
    "    return r"
   ]
  },
  {
   "cell_type": "code",
   "execution_count": 41,
   "metadata": {
    "collapsed": false,
    "deletable": true,
    "editable": true
   },
   "outputs": [
    {
     "name": "stdout",
     "output_type": "stream",
     "text": [
      "https://api.safecast.org/measurements.json?captured_after=2017-05-01+00%3A00&captured_before=2017-05-02+00%3A00\n"
     ]
    }
   ],
   "source": [
    "r =  api_call()\n",
    "the_json = json.loads(r.text)"
   ]
  },
  {
   "cell_type": "markdown",
   "metadata": {
    "deletable": true,
    "editable": true
   },
   "source": [
    "test looking into the json output"
   ]
  },
  {
   "cell_type": "code",
   "execution_count": 42,
   "metadata": {
    "collapsed": false,
    "deletable": true,
    "editable": true
   },
   "outputs": [
    {
     "name": "stdout",
     "output_type": "stream",
     "text": [
      "Number of sites = 19\n",
      "Average radiation level = 36.63\n"
     ]
    }
   ],
   "source": [
    "lats = []\n",
    "longs = []\n",
    "set_size = len(the_json)\n",
    "count = 0\n",
    "sum = 0\n",
    "for i in range(0, set_size):\n",
    "    if the_json[i][\"unit\"] == \"cpm\":\n",
    "        sum = the_json[i][\"value\"] + sum\n",
    "        lats.append(the_json[i][\"latitude\"])\n",
    "        longs.append(the_json[i][\"longitude\"])\n",
    "        count += 1\n",
    "average = round(sum / count,2)\n",
    "print \"Number of sites = \" + str(count)\n",
    "print \"Average radiation level = \" + str(average)"
   ]
  },
  {
   "cell_type": "markdown",
   "metadata": {
    "collapsed": true,
    "deletable": true,
    "editable": true
   },
   "source": [
    "plot the data points into google maps"
   ]
  },
  {
   "cell_type": "code",
   "execution_count": 49,
   "metadata": {
    "collapsed": false,
    "deletable": true,
    "editable": true
   },
   "outputs": [
    {
     "name": "stdout",
     "output_type": "stream",
     "text": [
      "36.8260767895\n",
      "91.2512566316\n"
     ]
    }
   ],
   "source": [
    "map_lat = numpy.mean(lats)\n",
    "map_long = numpy.mean(longs)\n",
    "print map_lat\n",
    "print map_long\n",
    "gmap = gmplot.GoogleMapPlotter(map_lat, map_long, 4)\n",
    "\n",
    "gmap.scatter(lats, longs, 'cornflowerblue', size = 40, marker=True)\n",
    "\n",
    "gmap.draw(\"mymap.html\")"
   ]
  },
  {
   "cell_type": "markdown",
   "metadata": {},
   "source": [
    "<iframe src=\"file:///home/matthew/code1161base/open_data_project/mymap.html\">\n",
    "</iframe>"
   ]
  },
  {
   "cell_type": "markdown",
   "metadata": {},
   "source": [
    "simple http server turn folder into localhost - python -m SimpleHTTPServer 8000"
   ]
  },
  {
   "cell_type": "code",
   "execution_count": 50,
   "metadata": {
    "collapsed": false
   },
   "outputs": [
    {
     "data": {
      "text/plain": [
       "True"
      ]
     },
     "execution_count": 50,
     "metadata": {},
     "output_type": "execute_result"
    }
   ],
   "source": [
    "url = \"mymap.html\"\n",
    "webbrowser.open(url)"
   ]
  },
  {
   "cell_type": "code",
   "execution_count": null,
   "metadata": {
    "collapsed": true
   },
   "outputs": [],
   "source": []
  }
 ],
 "metadata": {
  "kernelspec": {
   "display_name": "Python 2",
   "language": "python",
   "name": "python2"
  },
  "language_info": {
   "codemirror_mode": {
    "name": "ipython",
    "version": 2
   },
   "file_extension": ".py",
   "mimetype": "text/x-python",
   "name": "python",
   "nbconvert_exporter": "python",
   "pygments_lexer": "ipython2",
   "version": "2.7.12"
  }
 },
 "nbformat": 4,
 "nbformat_minor": 2
}
