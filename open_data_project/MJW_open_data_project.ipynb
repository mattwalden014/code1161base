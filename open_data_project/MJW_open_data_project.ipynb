{
 "cells": [
  {
   "cell_type": "markdown",
   "metadata": {
    "deletable": true,
    "editable": true,
    "slideshow": {
     "slide_type": "slide"
    }
   },
   "source": [
    "# Nuclear Open Data"
   ]
  },
  {
   "cell_type": "markdown",
   "metadata": {
    "deletable": true,
    "editable": true,
    "slideshow": {
     "slide_type": "fragment"
    }
   },
   "source": [
    "Pulling data from safecast.org and doing stuff with it. safecast.org is an opensource data site with predominantly radiation data, but is expanding into other environmental pollutants.\n",
    "\n",
    "The dataset on safecast contains over 6 billion datapoints, so I will consider only a small subset."
   ]
  },
  {
   "cell_type": "markdown",
   "metadata": {
    "deletable": true,
    "editable": true,
    "slideshow": {
     "slide_type": "slide"
    }
   },
   "source": [
    "Imports go here"
   ]
  },
  {
   "cell_type": "code",
   "execution_count": 1,
   "metadata": {
    "collapsed": false,
    "deletable": true,
    "editable": true
   },
   "outputs": [],
   "source": [
    "import matplotlib\n",
    "import matplotlib.pyplot as plt\n",
    "import geopandas as gp\n",
    "import shapely\n",
    "import fiona\n",
    "import json\n",
    "import requests\n",
    "import gmplot\n",
    "import webbrowser\n",
    "import numpy as np\n",
    "import pandas as pd\n",
    "import os\n",
    "import csv\n",
    "\n",
    "%matplotlib inline\n",
    "plt.rcParams['figure.figsize'] = (20, 10)\n",
    "\n",
    "working_dataset = []"
   ]
  },
  {
   "cell_type": "markdown",
   "metadata": {
    "deletable": true,
    "editable": true,
    "slideshow": {
     "slide_type": "skip"
    }
   },
   "source": [
    "API Call function"
   ]
  },
  {
   "cell_type": "code",
   "execution_count": 2,
   "metadata": {
    "collapsed": false,
    "deletable": true,
    "editable": true,
    "slideshow": {
     "slide_type": "skip"
    }
   },
   "outputs": [],
   "source": [
    "def api_call(captured_after = \"2017-05-01+00%3A00\", captured_before = \"2017-05-02+00%3A00\"):\n",
    "    base_url = \"https://api.safecast.org/measurements.json\"\n",
    "    api_key = \"hj5Nam6xXLATGcvUpP14\"\n",
    "    call_url = base_url + \"?captured_after=\" + captured_after + \"&captured_before=\" + captured_before\n",
    "    # call_url = base_url + \"?api_key=\" + api_key\n",
    "    print call_url\n",
    "    r = requests.get(call_url)\n",
    "    return r"
   ]
  },
  {
   "cell_type": "code",
   "execution_count": 3,
   "metadata": {
    "collapsed": false,
    "deletable": true,
    "editable": true,
    "slideshow": {
     "slide_type": "skip"
    }
   },
   "outputs": [
    {
     "name": "stdout",
     "output_type": "stream",
     "text": [
      "https://api.safecast.org/measurements.json?captured_after=2017-05-01+00%3A00&captured_before=2017-05-02+00%3A00\n"
     ]
    }
   ],
   "source": [
    "r =  api_call()\n",
    "the_json = json.loads(r.text)"
   ]
  },
  {
   "cell_type": "markdown",
   "metadata": {
    "deletable": true,
    "editable": true,
    "slideshow": {
     "slide_type": "skip"
    }
   },
   "source": [
    "test looking into the json output"
   ]
  },
  {
   "cell_type": "code",
   "execution_count": 4,
   "metadata": {
    "collapsed": false,
    "deletable": true,
    "editable": true,
    "slideshow": {
     "slide_type": "skip"
    }
   },
   "outputs": [
    {
     "name": "stdout",
     "output_type": "stream",
     "text": [
      "Number of sites = 19\n",
      "Average radiation level = 36.63\n"
     ]
    }
   ],
   "source": [
    "lats = []\n",
    "longs = []\n",
    "set_size = len(the_json)\n",
    "count = 0\n",
    "sum = 0\n",
    "for i in range(0, set_size):\n",
    "    if the_json[i][\"unit\"] == \"cpm\":\n",
    "        sum = the_json[i][\"value\"] + sum\n",
    "        lats.append(the_json[i][\"latitude\"])\n",
    "        longs.append(the_json[i][\"longitude\"])\n",
    "        count += 1\n",
    "average = round(sum / count,2)\n",
    "print \"Number of sites = \" + str(count)\n",
    "print \"Average radiation level = \" + str(average)"
   ]
  },
  {
   "cell_type": "markdown",
   "metadata": {
    "deletable": true,
    "editable": true,
    "slideshow": {
     "slide_type": "slide"
    }
   },
   "source": [
    "Initialise all of the data used in the data plotting. This is done to find the fastest pathway to ready to work with."
   ]
  },
  {
   "cell_type": "code",
   "execution_count": 2,
   "metadata": {
    "collapsed": true,
    "deletable": true,
    "editable": true
   },
   "outputs": [],
   "source": [
    "def unzip_zipfile(zipped_file_path, put_it_here=\".\"):\n",
    "    \"\"\"Unzip a zip file into the directory\"\"\"\n",
    "    import zipfile\n",
    "    zip_of_stuff = zipfile.ZipFile(zipped_file_path, 'r')\n",
    "    print \"Unzipping file\"\n",
    "    zip_of_stuff.extractall(put_it_here)\n",
    "    zip_of_stuff.close()\n",
    "    print \"Cleaning up zip file\"\n",
    "    os.remove(zipped_file_path)\n",
    "    print \"Zip file removed\""
   ]
  },
  {
   "cell_type": "code",
   "execution_count": 3,
   "metadata": {
    "collapsed": false,
    "deletable": true,
    "editable": true
   },
   "outputs": [],
   "source": [
    "def download_file(file_name, zip_file_name, web_file_path):\n",
    "    \"\"\"Get the data loaded and unzip if needed.\"\"\"\n",
    "    \n",
    "    if os.path.isfile(file_name):\n",
    "        print \"loading from file\"\n",
    "    else:\n",
    "        if os.path.isfile(zip_file_name):\n",
    "            print \"unzipping\"\n",
    "            unzip_zipfile(zip_file_name)\n",
    "        else:\n",
    "            import requests\n",
    "            print \"loading from the internet\"\n",
    "            page = requests.get(web_file_path)\n",
    "            with open(zip_file_name, 'wb') as z:\n",
    "                z.write(page.content)\n",
    "            unzip_zipfile(zip_file_name)\n",
    "\n",
    "    print \"done\""
   ]
  },
  {
   "cell_type": "code",
   "execution_count": 4,
   "metadata": {
    "collapsed": false,
    "deletable": true,
    "editable": true
   },
   "outputs": [
    {
     "name": "stdout",
     "output_type": "stream",
     "text": [
      "loading from file\n",
      "done\n"
     ]
    }
   ],
   "source": [
    "shp_file_name = \"TM_WORLD_BORDERS-0.3.shp\"\n",
    "shp_zip_file_name = \"TM_WORLD_BORDERS-0.3.zip\"\n",
    "shp_web_file_path = (\"http://thematicmapping.org/downloads/TM_WORLD_BORDERS-0.3.zip\")\n",
    "download_file(shp_file_name, shp_zip_file_name, shp_web_file_path)"
   ]
  },
  {
   "cell_type": "code",
   "execution_count": 5,
   "metadata": {
    "collapsed": false,
    "deletable": true,
    "editable": true
   },
   "outputs": [
    {
     "name": "stdout",
     "output_type": "stream",
     "text": [
      "loading from file\n",
      "done\n"
     ]
    }
   ],
   "source": [
    "nuke_file_name = \"measurements.csv\"\n",
    "nuke_zip_file_name = \"measurements.csv.zip\"\n",
    "nuke_web_file_path = (\"https://api.safecast.org/system/measurements.csv\")\n",
    "download_file(nuke_file_name, nuke_zip_file_name, nuke_web_file_path)"
   ]
  },
  {
   "cell_type": "code",
   "execution_count": 6,
   "metadata": {
    "collapsed": false,
    "deletable": true,
    "editable": true
   },
   "outputs": [],
   "source": [
    "def country_initialise():\n",
    "    \"\"\"Initialise the country database. Used in all pathways.\"\"\"\n",
    "    countries = gp.GeoDataFrame.from_file(shp_file_name)\n",
    "    countries.drop([\"FIPS\", \"ISO2\", \"ISO3\", \"POP2005\", \"REGION\", \"SUBREGION\", \"UN\"], axis=1, inplace=True)\n",
    "    countries.head(2)"
   ]
  },
  {
   "cell_type": "code",
   "execution_count": 7,
   "metadata": {
    "collapsed": false,
    "deletable": true,
    "editable": true
   },
   "outputs": [],
   "source": [
    "def add_country(row):\n",
    "\n",
    "    location = shapely.geometry.point.Point(row.Longitude, row.Latitude)\n",
    "    for _, country_row in countries.iterrows():\n",
    "        if type(country_row.geometry) == shapely.geometry.polygon.Polygon:\n",
    "            if location.within(country_row.geometry):\n",
    "                return country_row[\"NAME\"]\n",
    "        else:\n",
    "            for polygon in country_row.geometry:\n",
    "                if location.within(polygon):\n",
    "                    return country_row[\"NAME\"]\n"
   ]
  },
  {
   "cell_type": "code",
   "execution_count": 8,
   "metadata": {
    "collapsed": false,
    "deletable": true,
    "editable": true
   },
   "outputs": [],
   "source": [
    "def dataset_from_new():\n",
    "    \"\"\"Create a working dataset from the raw safecast dataset.\"\"\"\n",
    "    start_date = \"2017-05-12 00:00:00\"\n",
    "    end_date = \"2017-05-12 23:59:59\"\n",
    "    iter_csv = pd.read_csv(nuke_file_name, usecols=['Captured Time','Latitude', 'Longitude', 'Value', 'Unit'], iterator=True, chunksize=1000)\n",
    "    working_dataset = pd.concat([chunk[(chunk['Captured Time'] > start_date) & (chunk['Captured Time'] < end_date) & (chunk['Unit'] == \"cpm\")] for chunk in iter_csv])\n",
    "    working_dataset[\"Country\"] = working_dataset.apply(add_country, axis=1)\n",
    "    working_dataset.head(15)\n",
    "    working_dataset.to_csv('last_working_set.csv', index=False)"
   ]
  },
  {
   "cell_type": "code",
   "execution_count": 9,
   "metadata": {
    "collapsed": true,
    "deletable": true,
    "editable": true
   },
   "outputs": [],
   "source": [
    "def dataset_from_existing():\n",
    "    \"\"\"Load in previous dataset.\"\"\"\n",
    "    working_dataset = pd.read_csv('last_working_set.csv')\n",
    "    working_dataset = pd.DataFrame(working_dataset)"
   ]
  },
  {
   "cell_type": "markdown",
   "metadata": {
    "deletable": true,
    "editable": true,
    "slideshow": {
     "slide_type": "slide"
    }
   },
   "source": [
    "Finally, read in the data"
   ]
  },
  {
   "cell_type": "code",
   "execution_count": 11,
   "metadata": {
    "collapsed": false,
    "deletable": true,
    "editable": true
   },
   "outputs": [
    {
     "name": "stdout",
     "output_type": "stream",
     "text": [
      "loading from previous dataset\n"
     ]
    },
    {
     "data": {
      "text/html": [
       "<div>\n",
       "<table border=\"1\" class=\"dataframe\">\n",
       "  <thead>\n",
       "    <tr style=\"text-align: right;\">\n",
       "      <th></th>\n",
       "      <th>AREA</th>\n",
       "      <th>LAT</th>\n",
       "      <th>LON</th>\n",
       "      <th>NAME</th>\n",
       "      <th>geometry</th>\n",
       "    </tr>\n",
       "  </thead>\n",
       "  <tbody>\n",
       "    <tr>\n",
       "      <th>0</th>\n",
       "      <td>44</td>\n",
       "      <td>17.078</td>\n",
       "      <td>-61.783</td>\n",
       "      <td>Antigua and Barbuda</td>\n",
       "      <td>(POLYGON ((-61.686668 17.02444100000014, -61.7...</td>\n",
       "    </tr>\n",
       "    <tr>\n",
       "      <th>1</th>\n",
       "      <td>238174</td>\n",
       "      <td>28.163</td>\n",
       "      <td>2.632</td>\n",
       "      <td>Algeria</td>\n",
       "      <td>POLYGON ((2.96361 36.802216, 2.981389 36.80693...</td>\n",
       "    </tr>\n",
       "    <tr>\n",
       "      <th>2</th>\n",
       "      <td>8260</td>\n",
       "      <td>40.430</td>\n",
       "      <td>47.395</td>\n",
       "      <td>Azerbaijan</td>\n",
       "      <td>(POLYGON ((45.08332100000001 39.76804400000015...</td>\n",
       "    </tr>\n",
       "  </tbody>\n",
       "</table>\n",
       "</div>"
      ],
      "text/plain": [
       "     AREA     LAT     LON                 NAME  \\\n",
       "0      44  17.078 -61.783  Antigua and Barbuda   \n",
       "1  238174  28.163   2.632              Algeria   \n",
       "2    8260  40.430  47.395           Azerbaijan   \n",
       "\n",
       "                                            geometry  \n",
       "0  (POLYGON ((-61.686668 17.02444100000014, -61.7...  \n",
       "1  POLYGON ((2.96361 36.802216, 2.981389 36.80693...  \n",
       "2  (POLYGON ((45.08332100000001 39.76804400000015...  "
      ]
     },
     "execution_count": 11,
     "metadata": {},
     "output_type": "execute_result"
    }
   ],
   "source": [
    "if os.path.isfile('last_working_set.csv'):\n",
    "    print \"loading from previous dataset\"\n",
    "    countries = gp.GeoDataFrame.from_file(shp_file_name)\n",
    "    countries.drop([\"FIPS\", \"ISO2\", \"ISO3\", \"POP2005\", \"REGION\", \"SUBREGION\", \"UN\"], axis=1, inplace=True)\n",
    "    working_dataset = pd.read_csv('last_working_set.csv')\n",
    "else:\n",
    "    new_nuke_data()\n",
    "    countries = gp.GeoDataFrame.from_file(shp_file_name)\n",
    "    countries.drop([\"FIPS\", \"ISO2\", \"ISO3\", \"POP2005\", \"REGION\", \"SUBREGION\", \"UN\"], axis=1, inplace=True)\n",
    "    countries.head(2)\n",
    "    dataset_from_new()\n",
    "countries.head(3)"
   ]
  },
  {
   "cell_type": "markdown",
   "metadata": {
    "collapsed": true,
    "deletable": true,
    "editable": true,
    "slideshow": {
     "slide_type": "slide"
    }
   },
   "source": [
    "plot the data points into google maps"
   ]
  },
  {
   "cell_type": "code",
   "execution_count": 12,
   "metadata": {
    "collapsed": false,
    "deletable": true,
    "editable": true,
    "slideshow": {
     "slide_type": "fragment"
    }
   },
   "outputs": [
    {
     "name": "stdout",
     "output_type": "stream",
     "text": [
      "38.3966827917\n",
      "70.300501559\n"
     ]
    },
    {
     "data": {
      "text/plain": [
       "True"
      ]
     },
     "execution_count": 12,
     "metadata": {},
     "output_type": "execute_result"
    }
   ],
   "source": [
    "url = \"mymap.html\"\n",
    "map_lat = np.mean(working_dataset['Latitude'])\n",
    "map_long = np.mean(working_dataset['Longitude'])\n",
    "print map_lat\n",
    "print map_long\n",
    "gmap = gmplot.GoogleMapPlotter(map_lat, map_long, 4)\n",
    "\n",
    "# gmap.scatter(lats, longs, 'cornflowerblue', size = 40, marker=True)\n",
    "gmap.heatmap(working_dataset['Latitude'], working_dataset['Longitude'])\n",
    "\n",
    "gmap.draw(url)\n",
    "webbrowser.open(url)"
   ]
  },
  {
   "cell_type": "code",
   "execution_count": 8,
   "metadata": {
    "collapsed": false,
    "deletable": true,
    "editable": true,
    "slideshow": {
     "slide_type": "skip"
    }
   },
   "outputs": [
    {
     "name": "stdout",
     "output_type": "stream",
     "text": [
      "AREA                                                       44\n",
      "LAT                                                    17.078\n",
      "LON                                                   -61.783\n",
      "NAME                                      Antigua and Barbuda\n",
      "geometry    (POLYGON ((-61.686668 17.02444100000014, -61.7...\n",
      "Name: 0, dtype: object\n",
      "POLYGON ((-61.686668 17.02444100000014, -61.73805999999996 16.98971899999998, -61.82916999999992 16.99694400000004, -61.87611399999997 17.01694100000009, -61.88056199999994 17.01972199999994, -61.88361399999997 17.02360900000008, -61.88583399999999 17.02805300000006, -61.88722200000001 17.03305400000011, -61.89111299999996 17.09416599999997, -61.88722200000001 17.10527399999995, -61.88417099999998 17.10972199999992, -61.83277900000002 17.16388699999999, -61.826393 17.16722099999998, -61.79444899999999 17.16333000000009, -61.78417200000001 17.15833299999997, -61.74417099999994 17.13721799999996, -61.674171 17.09360900000007, -61.67027999999993 17.09027500000008, -61.66889200000003 17.08499899999998, -61.66638899999998 17.04583000000008, -61.66750299999995 17.04055399999999, -61.682503 17.02749599999999, -61.686668 17.02444100000014))\n",
      "POLYGON ((-61.72917199999995 17.608608, -61.73111699999998 17.54722200000009, -61.73277999999999 17.541111, -61.73889199999996 17.5405540000001, -61.75194499999992 17.54944200000006, -61.81555899999995 17.58388500000007, -61.83472399999999 17.58860800000008, -61.83944700000001 17.58666599999998, -61.842781 17.58277500000008, -61.84750399999996 17.58083000000011, -61.85305799999998 17.58305400000006, -61.856674 17.59249899999998, -61.87389400000001 17.68888900000002, -61.87528199999997 17.69860799999998, -61.873062 17.70388800000006, -61.85028099999994 17.72277500000013, -61.84555799999998 17.72499800000003, -61.83917199999996 17.7247200000001, -61.78722399999992 17.70055400000007, -61.78361499999994 17.69722000000007, -61.74333999999993 17.653053, -61.74027999999998 17.64916600000009, -61.73805999999996 17.64472200000012, -61.73167399999994 17.62499600000007, -61.72917199999995 17.608608))\n"
     ]
    }
   ],
   "source": [
    "a = countries.iloc[0]\n",
    "print a\n",
    "for polygon in a.geometry:\n",
    "    print polygon"
   ]
  },
  {
   "cell_type": "code",
   "execution_count": 33,
   "metadata": {
    "collapsed": false,
    "deletable": true,
    "editable": true,
    "scrolled": false,
    "slideshow": {
     "slide_type": "skip"
    }
   },
   "outputs": [
    {
     "data": {
      "image/png": "[encoded data removed]",
      "text/plain": [
       "<matplotlib.figure.Figure at 0x7f8503673c10>"
      ]
     },
     "metadata": {},
     "output_type": "display_data"
    }
   ],
   "source": [
    "# countries.distance_from_SYD.hist(bins=50);"
   ]
  },
  {
   "cell_type": "code",
   "execution_count": 32,
   "metadata": {
    "collapsed": false,
    "deletable": true,
    "editable": true,
    "scrolled": false,
    "slideshow": {
     "slide_type": "skip"
    }
   },
   "outputs": [
    {
     "ename": "NameError",
     "evalue": "name 'countries' is not defined",
     "output_type": "error",
     "traceback": [
      "\u001b[0;31m---------------------------------------------------------------------------\u001b[0m",
      "\u001b[0;31mNameError\u001b[0m                                 Traceback (most recent call last)",
      "\u001b[0;32m<ipython-input-32-a5117aee8856>\u001b[0m in \u001b[0;36m<module>\u001b[0;34m()\u001b[0m\n\u001b[0;32m----> 1\u001b[0;31m \u001b[0mcountries\u001b[0m\u001b[0;34m.\u001b[0m\u001b[0mplot\u001b[0m\u001b[0;34m(\u001b[0m\u001b[0;34m)\u001b[0m\u001b[0;34m;\u001b[0m\u001b[0;34m\u001b[0m\u001b[0m\n\u001b[0m",
      "\u001b[0;31mNameError\u001b[0m: name 'countries' is not defined"
     ]
    }
   ],
   "source": [
    "countries.plot();"
   ]
  },
  {
   "cell_type": "code",
   "execution_count": 11,
   "metadata": {
    "collapsed": false,
    "deletable": true,
    "editable": true,
    "slideshow": {
     "slide_type": "skip"
    }
   },
   "outputs": [
    {
     "name": "stdout",
     "output_type": "stream",
     "text": [
      "['Captured Time,Latitude,Longitude,Value,Unit,Location Name,Device ID,MD5Sum,Height,Surface,Radiation,Uploaded Time,Loader ID\\n', '2020-02-03 17:00:00,37.507551666667,139.94117,72,cpm,,,6449bbf7ce3b30a8e05bc23a0bc40644,,,,2020-02-03 17:00:00,633\\n', '2020-02-03 11:00:00,37.505445,0.016666666666667,68,cpm,,,a166df14f60b61095693684fc0f89c54,,,,2020-02-03 11:00:00,614\\n']\n"
     ]
    }
   ],
   "source": [
    "with open(nuke_file_name) as nuke_file:\n",
    "    head = [next(nuke_file) for x in xrange(3)]\n",
    "print head"
   ]
  },
  {
   "cell_type": "code",
   "execution_count": 9,
   "metadata": {
    "collapsed": false,
    "deletable": true,
    "editable": true,
    "slideshow": {
     "slide_type": "skip"
    }
   },
   "outputs": [
    {
     "name": "stdout",
     "output_type": "stream",
     "text": [
      "True\n"
     ]
    }
   ],
   "source": [
    "start_date = \"2017-01-01 00:00:00\"\n",
    "end_date = \"2017-06-01 23:59:59\"\n",
    "\n",
    "if start_date < end_date:\n",
    "    print True\n",
    "else:\n",
    "    print False"
   ]
  },
  {
   "cell_type": "code",
   "execution_count": 38,
   "metadata": {
    "collapsed": false,
    "deletable": true,
    "editable": true,
    "slideshow": {
     "slide_type": "skip"
    }
   },
   "outputs": [
    {
     "data": {
      "text/html": [
       "<div>\n",
       "<table border=\"1\" class=\"dataframe\">\n",
       "  <thead>\n",
       "    <tr style=\"text-align: right;\">\n",
       "      <th></th>\n",
       "      <th>Captured Time</th>\n",
       "      <th>Latitude</th>\n",
       "      <th>Longitude</th>\n",
       "      <th>Value</th>\n",
       "      <th>Unit</th>\n",
       "    </tr>\n",
       "  </thead>\n",
       "  <tbody>\n",
       "    <tr>\n",
       "      <th>0</th>\n",
       "      <td>2020-02-03 17:00:00</td>\n",
       "      <td>37.507552</td>\n",
       "      <td>139.941170</td>\n",
       "      <td>72.0</td>\n",
       "      <td>cpm</td>\n",
       "    </tr>\n",
       "    <tr>\n",
       "      <th>1</th>\n",
       "      <td>2020-02-03 11:00:00</td>\n",
       "      <td>37.505445</td>\n",
       "      <td>0.016667</td>\n",
       "      <td>68.0</td>\n",
       "      <td>cpm</td>\n",
       "    </tr>\n",
       "    <tr>\n",
       "      <th>2</th>\n",
       "      <td>2020-02-03 11:00:00</td>\n",
       "      <td>37.507250</td>\n",
       "      <td>139.940000</td>\n",
       "      <td>55.0</td>\n",
       "      <td>cpm</td>\n",
       "    </tr>\n",
       "    <tr>\n",
       "      <th>3</th>\n",
       "      <td>2020-02-01 03:00:00</td>\n",
       "      <td>34.066487</td>\n",
       "      <td>-118.895217</td>\n",
       "      <td>50.0</td>\n",
       "      <td>cpm</td>\n",
       "    </tr>\n",
       "    <tr>\n",
       "      <th>4</th>\n",
       "      <td>2020-02-01 01:00:00</td>\n",
       "      <td>37.673233</td>\n",
       "      <td>140.066667</td>\n",
       "      <td>48.0</td>\n",
       "      <td>cpm</td>\n",
       "    </tr>\n",
       "    <tr>\n",
       "      <th>5</th>\n",
       "      <td>2020-02-01 01:00:00</td>\n",
       "      <td>37.674782</td>\n",
       "      <td>140.079895</td>\n",
       "      <td>52.0</td>\n",
       "      <td>cpm</td>\n",
       "    </tr>\n",
       "  </tbody>\n",
       "</table>\n",
       "</div>"
      ],
      "text/plain": [
       "         Captured Time   Latitude   Longitude  Value Unit\n",
       "0  2020-02-03 17:00:00  37.507552  139.941170   72.0  cpm\n",
       "1  2020-02-03 11:00:00  37.505445    0.016667   68.0  cpm\n",
       "2  2020-02-03 11:00:00  37.507250  139.940000   55.0  cpm\n",
       "3  2020-02-01 03:00:00  34.066487 -118.895217   50.0  cpm\n",
       "4  2020-02-01 01:00:00  37.673233  140.066667   48.0  cpm\n",
       "5  2020-02-01 01:00:00  37.674782  140.079895   52.0  cpm"
      ]
     },
     "execution_count": 38,
     "metadata": {},
     "output_type": "execute_result"
    }
   ],
   "source": [
    "# working_dataset.drop([\"Location Name\", \"Device ID\", \"MD5Sum\", \"Height\", \"Surface\", \"Radiation\", \"Uploaded Time\", \"Loader ID\"], axis=1, inplace=True)\n",
    "# working_dataset.head(6)"
   ]
  },
  {
   "cell_type": "code",
   "execution_count": 8,
   "metadata": {
    "collapsed": false,
    "deletable": true,
    "editable": true,
    "slideshow": {
     "slide_type": "skip"
    }
   },
   "outputs": [
    {
     "data": {
      "text/html": [
       "<div>\n",
       "<table border=\"1\" class=\"dataframe\">\n",
       "  <thead>\n",
       "    <tr style=\"text-align: right;\">\n",
       "      <th></th>\n",
       "      <th>Captured Time</th>\n",
       "      <th>Latitude</th>\n",
       "      <th>Longitude</th>\n",
       "      <th>Value</th>\n",
       "      <th>Unit</th>\n",
       "    </tr>\n",
       "  </thead>\n",
       "  <tbody>\n",
       "    <tr>\n",
       "      <th>0</th>\n",
       "      <td>2020-02-03 17:00:00</td>\n",
       "      <td>37.507552</td>\n",
       "      <td>139.941170</td>\n",
       "      <td>72.0</td>\n",
       "      <td>cpm</td>\n",
       "    </tr>\n",
       "    <tr>\n",
       "      <th>1</th>\n",
       "      <td>2020-02-03 11:00:00</td>\n",
       "      <td>37.505445</td>\n",
       "      <td>0.016667</td>\n",
       "      <td>68.0</td>\n",
       "      <td>cpm</td>\n",
       "    </tr>\n",
       "    <tr>\n",
       "      <th>2</th>\n",
       "      <td>2020-02-03 11:00:00</td>\n",
       "      <td>37.507250</td>\n",
       "      <td>139.940000</td>\n",
       "      <td>55.0</td>\n",
       "      <td>cpm</td>\n",
       "    </tr>\n",
       "    <tr>\n",
       "      <th>3</th>\n",
       "      <td>2020-02-01 03:00:00</td>\n",
       "      <td>34.066487</td>\n",
       "      <td>-118.895217</td>\n",
       "      <td>50.0</td>\n",
       "      <td>cpm</td>\n",
       "    </tr>\n",
       "    <tr>\n",
       "      <th>4</th>\n",
       "      <td>2020-02-01 01:00:00</td>\n",
       "      <td>37.673233</td>\n",
       "      <td>140.066667</td>\n",
       "      <td>48.0</td>\n",
       "      <td>cpm</td>\n",
       "    </tr>\n",
       "    <tr>\n",
       "      <th>5</th>\n",
       "      <td>2020-02-01 01:00:00</td>\n",
       "      <td>37.674782</td>\n",
       "      <td>140.079895</td>\n",
       "      <td>52.0</td>\n",
       "      <td>cpm</td>\n",
       "    </tr>\n",
       "    <tr>\n",
       "      <th>6</th>\n",
       "      <td>2020-01-12 19:00:00</td>\n",
       "      <td>37.737123</td>\n",
       "      <td>140.726853</td>\n",
       "      <td>454.0</td>\n",
       "      <td>cpm</td>\n",
       "    </tr>\n",
       "    <tr>\n",
       "      <th>7</th>\n",
       "      <td>2020-01-12 19:00:00</td>\n",
       "      <td>37.517902</td>\n",
       "      <td>139.925478</td>\n",
       "      <td>59.0</td>\n",
       "      <td>cpm</td>\n",
       "    </tr>\n",
       "    <tr>\n",
       "      <th>8</th>\n",
       "      <td>2020-01-12 19:00:00</td>\n",
       "      <td>37.755880</td>\n",
       "      <td>140.703412</td>\n",
       "      <td>463.0</td>\n",
       "      <td>cpm</td>\n",
       "    </tr>\n",
       "    <tr>\n",
       "      <th>9</th>\n",
       "      <td>2020-01-12 19:00:00</td>\n",
       "      <td>37.539610</td>\n",
       "      <td>140.116577</td>\n",
       "      <td>47.0</td>\n",
       "      <td>cpm</td>\n",
       "    </tr>\n",
       "    <tr>\n",
       "      <th>10</th>\n",
       "      <td>2020-01-12 19:00:00</td>\n",
       "      <td>37.737157</td>\n",
       "      <td>140.726832</td>\n",
       "      <td>441.0</td>\n",
       "      <td>cpm</td>\n",
       "    </tr>\n",
       "    <tr>\n",
       "      <th>11</th>\n",
       "      <td>2020-01-12 19:00:00</td>\n",
       "      <td>37.550587</td>\n",
       "      <td>139.950000</td>\n",
       "      <td>44.0</td>\n",
       "      <td>cpm</td>\n",
       "    </tr>\n",
       "    <tr>\n",
       "      <th>12</th>\n",
       "      <td>2020-01-12 19:00:00</td>\n",
       "      <td>37.754973</td>\n",
       "      <td>140.687660</td>\n",
       "      <td>384.0</td>\n",
       "      <td>cpm</td>\n",
       "    </tr>\n",
       "    <tr>\n",
       "      <th>13</th>\n",
       "      <td>2020-01-12 19:00:00</td>\n",
       "      <td>37.526595</td>\n",
       "      <td>139.931667</td>\n",
       "      <td>59.0</td>\n",
       "      <td>cpm</td>\n",
       "    </tr>\n",
       "    <tr>\n",
       "      <th>14</th>\n",
       "      <td>2020-01-12 19:00:00</td>\n",
       "      <td>37.747668</td>\n",
       "      <td>140.707195</td>\n",
       "      <td>579.0</td>\n",
       "      <td>cpm</td>\n",
       "    </tr>\n",
       "    <tr>\n",
       "      <th>15</th>\n",
       "      <td>2020-01-12 14:00:00</td>\n",
       "      <td>37.552842</td>\n",
       "      <td>139.958773</td>\n",
       "      <td>62.0</td>\n",
       "      <td>cpm</td>\n",
       "    </tr>\n",
       "    <tr>\n",
       "      <th>16</th>\n",
       "      <td>2020-01-12 12:00:00</td>\n",
       "      <td>37.537458</td>\n",
       "      <td>139.959428</td>\n",
       "      <td>56.0</td>\n",
       "      <td>cpm</td>\n",
       "    </tr>\n",
       "    <tr>\n",
       "      <th>17</th>\n",
       "      <td>2020-01-12 09:00:00</td>\n",
       "      <td>37.737142</td>\n",
       "      <td>140.726828</td>\n",
       "      <td>430.0</td>\n",
       "      <td>cpm</td>\n",
       "    </tr>\n",
       "    <tr>\n",
       "      <th>18</th>\n",
       "      <td>2020-01-12 09:00:00</td>\n",
       "      <td>37.539837</td>\n",
       "      <td>140.020780</td>\n",
       "      <td>62.0</td>\n",
       "      <td>cpm</td>\n",
       "    </tr>\n",
       "    <tr>\n",
       "      <th>19</th>\n",
       "      <td>2020-01-12 04:00:00</td>\n",
       "      <td>37.554983</td>\n",
       "      <td>139.952030</td>\n",
       "      <td>50.0</td>\n",
       "      <td>cpm</td>\n",
       "    </tr>\n",
       "    <tr>\n",
       "      <th>20</th>\n",
       "      <td>2017-05-24 00:59:59</td>\n",
       "      <td>25.043900</td>\n",
       "      <td>121.529000</td>\n",
       "      <td>44.0</td>\n",
       "      <td>cpm</td>\n",
       "    </tr>\n",
       "    <tr>\n",
       "      <th>21</th>\n",
       "      <td>2017-05-24 00:58:40</td>\n",
       "      <td>39.409900</td>\n",
       "      <td>-77.906900</td>\n",
       "      <td>14.0</td>\n",
       "      <td>cpm</td>\n",
       "    </tr>\n",
       "    <tr>\n",
       "      <th>23</th>\n",
       "      <td>2017-05-24 00:59:36</td>\n",
       "      <td>37.659000</td>\n",
       "      <td>140.459000</td>\n",
       "      <td>16.0</td>\n",
       "      <td>cpm</td>\n",
       "    </tr>\n",
       "    <tr>\n",
       "      <th>24</th>\n",
       "      <td>2017-05-24 00:59:36</td>\n",
       "      <td>37.659000</td>\n",
       "      <td>140.459000</td>\n",
       "      <td>35.0</td>\n",
       "      <td>cpm</td>\n",
       "    </tr>\n",
       "    <tr>\n",
       "      <th>25</th>\n",
       "      <td>2017-05-24 00:59:31</td>\n",
       "      <td>41.330300</td>\n",
       "      <td>-73.834000</td>\n",
       "      <td>14.0</td>\n",
       "      <td>cpm</td>\n",
       "    </tr>\n",
       "    <tr>\n",
       "      <th>26</th>\n",
       "      <td>2017-05-24 00:58:30</td>\n",
       "      <td>53.204200</td>\n",
       "      <td>6.565500</td>\n",
       "      <td>26.0</td>\n",
       "      <td>cpm</td>\n",
       "    </tr>\n",
       "    <tr>\n",
       "      <th>27</th>\n",
       "      <td>2017-05-24 00:59:25</td>\n",
       "      <td>41.330300</td>\n",
       "      <td>-73.834000</td>\n",
       "      <td>40.0</td>\n",
       "      <td>cpm</td>\n",
       "    </tr>\n",
       "    <tr>\n",
       "      <th>29</th>\n",
       "      <td>2017-05-24 00:59:20</td>\n",
       "      <td>36.043839</td>\n",
       "      <td>140.215360</td>\n",
       "      <td>16.0</td>\n",
       "      <td>cpm</td>\n",
       "    </tr>\n",
       "    <tr>\n",
       "      <th>30</th>\n",
       "      <td>2017-05-24 00:59:18</td>\n",
       "      <td>37.495123</td>\n",
       "      <td>140.995519</td>\n",
       "      <td>24.0</td>\n",
       "      <td>cpm</td>\n",
       "    </tr>\n",
       "    <tr>\n",
       "      <th>31</th>\n",
       "      <td>2017-05-24 00:59:12</td>\n",
       "      <td>37.495123</td>\n",
       "      <td>140.995519</td>\n",
       "      <td>69.0</td>\n",
       "      <td>cpm</td>\n",
       "    </tr>\n",
       "    <tr>\n",
       "      <th>...</th>\n",
       "      <td>...</td>\n",
       "      <td>...</td>\n",
       "      <td>...</td>\n",
       "      <td>...</td>\n",
       "      <td>...</td>\n",
       "    </tr>\n",
       "    <tr>\n",
       "      <th>88</th>\n",
       "      <td>2017-05-24 00:56:20</td>\n",
       "      <td>38.812900</td>\n",
       "      <td>-77.125000</td>\n",
       "      <td>23.0</td>\n",
       "      <td>cpm</td>\n",
       "    </tr>\n",
       "    <tr>\n",
       "      <th>89</th>\n",
       "      <td>2017-05-24 00:56:15</td>\n",
       "      <td>38.812900</td>\n",
       "      <td>-77.125000</td>\n",
       "      <td>23.0</td>\n",
       "      <td>cpm</td>\n",
       "    </tr>\n",
       "    <tr>\n",
       "      <th>91</th>\n",
       "      <td>2017-05-24 00:56:05</td>\n",
       "      <td>47.612268</td>\n",
       "      <td>-122.345039</td>\n",
       "      <td>9.0</td>\n",
       "      <td>cpm</td>\n",
       "    </tr>\n",
       "    <tr>\n",
       "      <th>92</th>\n",
       "      <td>2017-05-24 00:56:05</td>\n",
       "      <td>47.612268</td>\n",
       "      <td>-122.345039</td>\n",
       "      <td>30.0</td>\n",
       "      <td>cpm</td>\n",
       "    </tr>\n",
       "    <tr>\n",
       "      <th>93</th>\n",
       "      <td>2017-05-24 00:55:55.848</td>\n",
       "      <td>37.442836</td>\n",
       "      <td>-122.128094</td>\n",
       "      <td>9.0</td>\n",
       "      <td>cpm</td>\n",
       "    </tr>\n",
       "    <tr>\n",
       "      <th>94</th>\n",
       "      <td>2017-05-24 00:55:55.763</td>\n",
       "      <td>37.442836</td>\n",
       "      <td>-122.128094</td>\n",
       "      <td>38.0</td>\n",
       "      <td>cpm</td>\n",
       "    </tr>\n",
       "    <tr>\n",
       "      <th>96</th>\n",
       "      <td>2017-05-24 00:55:46</td>\n",
       "      <td>37.496139</td>\n",
       "      <td>140.986419</td>\n",
       "      <td>64.0</td>\n",
       "      <td>cpm</td>\n",
       "    </tr>\n",
       "    <tr>\n",
       "      <th>98</th>\n",
       "      <td>2017-05-24 00:55:43</td>\n",
       "      <td>42.565000</td>\n",
       "      <td>-70.783000</td>\n",
       "      <td>13.0</td>\n",
       "      <td>cpm</td>\n",
       "    </tr>\n",
       "    <tr>\n",
       "      <th>99</th>\n",
       "      <td>2017-05-24 00:55:42</td>\n",
       "      <td>42.565000</td>\n",
       "      <td>-70.783000</td>\n",
       "      <td>26.0</td>\n",
       "      <td>cpm</td>\n",
       "    </tr>\n",
       "    <tr>\n",
       "      <th>100</th>\n",
       "      <td>2017-05-24 00:55:39</td>\n",
       "      <td>37.496139</td>\n",
       "      <td>140.986419</td>\n",
       "      <td>157.0</td>\n",
       "      <td>cpm</td>\n",
       "    </tr>\n",
       "    <tr>\n",
       "      <th>101</th>\n",
       "      <td>2017-05-24 00:54:39</td>\n",
       "      <td>39.409900</td>\n",
       "      <td>-77.906900</td>\n",
       "      <td>14.0</td>\n",
       "      <td>cpm</td>\n",
       "    </tr>\n",
       "    <tr>\n",
       "      <th>103</th>\n",
       "      <td>2017-05-24 00:55:31</td>\n",
       "      <td>37.545620</td>\n",
       "      <td>140.398995</td>\n",
       "      <td>17.0</td>\n",
       "      <td>cpm</td>\n",
       "    </tr>\n",
       "    <tr>\n",
       "      <th>104</th>\n",
       "      <td>2017-05-24 00:55:31</td>\n",
       "      <td>37.545620</td>\n",
       "      <td>140.398995</td>\n",
       "      <td>53.0</td>\n",
       "      <td>cpm</td>\n",
       "    </tr>\n",
       "    <tr>\n",
       "      <th>105</th>\n",
       "      <td>2017-05-24 00:54:26</td>\n",
       "      <td>53.204200</td>\n",
       "      <td>6.565500</td>\n",
       "      <td>23.0</td>\n",
       "      <td>cpm</td>\n",
       "    </tr>\n",
       "    <tr>\n",
       "      <th>106</th>\n",
       "      <td>2017-05-24 00:55:23</td>\n",
       "      <td>37.493200</td>\n",
       "      <td>139.933050</td>\n",
       "      <td>38.0</td>\n",
       "      <td>cpm</td>\n",
       "    </tr>\n",
       "    <tr>\n",
       "      <th>107</th>\n",
       "      <td>2017-05-24 00:54:59</td>\n",
       "      <td>25.043900</td>\n",
       "      <td>121.529000</td>\n",
       "      <td>44.0</td>\n",
       "      <td>cpm</td>\n",
       "    </tr>\n",
       "    <tr>\n",
       "      <th>108</th>\n",
       "      <td>2017-05-24 00:53:39</td>\n",
       "      <td>39.409900</td>\n",
       "      <td>-77.906900</td>\n",
       "      <td>16.0</td>\n",
       "      <td>cpm</td>\n",
       "    </tr>\n",
       "    <tr>\n",
       "      <th>109</th>\n",
       "      <td>2017-05-24 00:54:33</td>\n",
       "      <td>37.659000</td>\n",
       "      <td>140.459000</td>\n",
       "      <td>16.0</td>\n",
       "      <td>cpm</td>\n",
       "    </tr>\n",
       "    <tr>\n",
       "      <th>110</th>\n",
       "      <td>2017-05-24 00:54:33</td>\n",
       "      <td>37.659000</td>\n",
       "      <td>140.459000</td>\n",
       "      <td>34.0</td>\n",
       "      <td>cpm</td>\n",
       "    </tr>\n",
       "    <tr>\n",
       "      <th>111</th>\n",
       "      <td>2017-05-24 00:53:25</td>\n",
       "      <td>53.204200</td>\n",
       "      <td>6.565500</td>\n",
       "      <td>32.0</td>\n",
       "      <td>cpm</td>\n",
       "    </tr>\n",
       "    <tr>\n",
       "      <th>112</th>\n",
       "      <td>2017-05-24 00:54:19</td>\n",
       "      <td>36.043839</td>\n",
       "      <td>140.215360</td>\n",
       "      <td>18.0</td>\n",
       "      <td>cpm</td>\n",
       "    </tr>\n",
       "    <tr>\n",
       "      <th>114</th>\n",
       "      <td>2017-05-24 00:54:13</td>\n",
       "      <td>41.330300</td>\n",
       "      <td>-73.834000</td>\n",
       "      <td>17.0</td>\n",
       "      <td>cpm</td>\n",
       "    </tr>\n",
       "    <tr>\n",
       "      <th>115</th>\n",
       "      <td>2017-05-24 00:54:07</td>\n",
       "      <td>41.330300</td>\n",
       "      <td>-73.834000</td>\n",
       "      <td>43.0</td>\n",
       "      <td>cpm</td>\n",
       "    </tr>\n",
       "    <tr>\n",
       "      <th>118</th>\n",
       "      <td>2017-05-24 00:54:00</td>\n",
       "      <td>42.381242</td>\n",
       "      <td>-71.111946</td>\n",
       "      <td>13.0</td>\n",
       "      <td>cpm</td>\n",
       "    </tr>\n",
       "    <tr>\n",
       "      <th>119</th>\n",
       "      <td>2017-05-24 00:54:00</td>\n",
       "      <td>42.381242</td>\n",
       "      <td>-71.111946</td>\n",
       "      <td>31.0</td>\n",
       "      <td>cpm</td>\n",
       "    </tr>\n",
       "    <tr>\n",
       "      <th>120</th>\n",
       "      <td>2017-05-24 00:53:59</td>\n",
       "      <td>37.495123</td>\n",
       "      <td>140.995519</td>\n",
       "      <td>19.0</td>\n",
       "      <td>cpm</td>\n",
       "    </tr>\n",
       "    <tr>\n",
       "      <th>121</th>\n",
       "      <td>2017-05-24 00:53:52</td>\n",
       "      <td>37.495123</td>\n",
       "      <td>140.995519</td>\n",
       "      <td>57.0</td>\n",
       "      <td>cpm</td>\n",
       "    </tr>\n",
       "    <tr>\n",
       "      <th>123</th>\n",
       "      <td>2017-05-24 00:53:50</td>\n",
       "      <td>37.366713</td>\n",
       "      <td>140.530970</td>\n",
       "      <td>0.0</td>\n",
       "      <td>cpm</td>\n",
       "    </tr>\n",
       "    <tr>\n",
       "      <th>124</th>\n",
       "      <td>2017-05-24 00:53:49</td>\n",
       "      <td>37.366713</td>\n",
       "      <td>140.530970</td>\n",
       "      <td>57.0</td>\n",
       "      <td>cpm</td>\n",
       "    </tr>\n",
       "    <tr>\n",
       "      <th>125</th>\n",
       "      <td>2017-05-24 00:52:39</td>\n",
       "      <td>39.409900</td>\n",
       "      <td>-77.906900</td>\n",
       "      <td>15.0</td>\n",
       "      <td>cpm</td>\n",
       "    </tr>\n",
       "  </tbody>\n",
       "</table>\n",
       "<p>100 rows × 5 columns</p>\n",
       "</div>"
      ],
      "text/plain": [
       "               Captured Time   Latitude   Longitude  Value Unit\n",
       "0        2020-02-03 17:00:00  37.507552  139.941170   72.0  cpm\n",
       "1        2020-02-03 11:00:00  37.505445    0.016667   68.0  cpm\n",
       "2        2020-02-03 11:00:00  37.507250  139.940000   55.0  cpm\n",
       "3        2020-02-01 03:00:00  34.066487 -118.895217   50.0  cpm\n",
       "4        2020-02-01 01:00:00  37.673233  140.066667   48.0  cpm\n",
       "5        2020-02-01 01:00:00  37.674782  140.079895   52.0  cpm\n",
       "6        2020-01-12 19:00:00  37.737123  140.726853  454.0  cpm\n",
       "7        2020-01-12 19:00:00  37.517902  139.925478   59.0  cpm\n",
       "8        2020-01-12 19:00:00  37.755880  140.703412  463.0  cpm\n",
       "9        2020-01-12 19:00:00  37.539610  140.116577   47.0  cpm\n",
       "10       2020-01-12 19:00:00  37.737157  140.726832  441.0  cpm\n",
       "11       2020-01-12 19:00:00  37.550587  139.950000   44.0  cpm\n",
       "12       2020-01-12 19:00:00  37.754973  140.687660  384.0  cpm\n",
       "13       2020-01-12 19:00:00  37.526595  139.931667   59.0  cpm\n",
       "14       2020-01-12 19:00:00  37.747668  140.707195  579.0  cpm\n",
       "15       2020-01-12 14:00:00  37.552842  139.958773   62.0  cpm\n",
       "16       2020-01-12 12:00:00  37.537458  139.959428   56.0  cpm\n",
       "17       2020-01-12 09:00:00  37.737142  140.726828  430.0  cpm\n",
       "18       2020-01-12 09:00:00  37.539837  140.020780   62.0  cpm\n",
       "19       2020-01-12 04:00:00  37.554983  139.952030   50.0  cpm\n",
       "20       2017-05-24 00:59:59  25.043900  121.529000   44.0  cpm\n",
       "21       2017-05-24 00:58:40  39.409900  -77.906900   14.0  cpm\n",
       "23       2017-05-24 00:59:36  37.659000  140.459000   16.0  cpm\n",
       "24       2017-05-24 00:59:36  37.659000  140.459000   35.0  cpm\n",
       "25       2017-05-24 00:59:31  41.330300  -73.834000   14.0  cpm\n",
       "26       2017-05-24 00:58:30  53.204200    6.565500   26.0  cpm\n",
       "27       2017-05-24 00:59:25  41.330300  -73.834000   40.0  cpm\n",
       "29       2017-05-24 00:59:20  36.043839  140.215360   16.0  cpm\n",
       "30       2017-05-24 00:59:18  37.495123  140.995519   24.0  cpm\n",
       "31       2017-05-24 00:59:12  37.495123  140.995519   69.0  cpm\n",
       "..                       ...        ...         ...    ...  ...\n",
       "88       2017-05-24 00:56:20  38.812900  -77.125000   23.0  cpm\n",
       "89       2017-05-24 00:56:15  38.812900  -77.125000   23.0  cpm\n",
       "91       2017-05-24 00:56:05  47.612268 -122.345039    9.0  cpm\n",
       "92       2017-05-24 00:56:05  47.612268 -122.345039   30.0  cpm\n",
       "93   2017-05-24 00:55:55.848  37.442836 -122.128094    9.0  cpm\n",
       "94   2017-05-24 00:55:55.763  37.442836 -122.128094   38.0  cpm\n",
       "96       2017-05-24 00:55:46  37.496139  140.986419   64.0  cpm\n",
       "98       2017-05-24 00:55:43  42.565000  -70.783000   13.0  cpm\n",
       "99       2017-05-24 00:55:42  42.565000  -70.783000   26.0  cpm\n",
       "100      2017-05-24 00:55:39  37.496139  140.986419  157.0  cpm\n",
       "101      2017-05-24 00:54:39  39.409900  -77.906900   14.0  cpm\n",
       "103      2017-05-24 00:55:31  37.545620  140.398995   17.0  cpm\n",
       "104      2017-05-24 00:55:31  37.545620  140.398995   53.0  cpm\n",
       "105      2017-05-24 00:54:26  53.204200    6.565500   23.0  cpm\n",
       "106      2017-05-24 00:55:23  37.493200  139.933050   38.0  cpm\n",
       "107      2017-05-24 00:54:59  25.043900  121.529000   44.0  cpm\n",
       "108      2017-05-24 00:53:39  39.409900  -77.906900   16.0  cpm\n",
       "109      2017-05-24 00:54:33  37.659000  140.459000   16.0  cpm\n",
       "110      2017-05-24 00:54:33  37.659000  140.459000   34.0  cpm\n",
       "111      2017-05-24 00:53:25  53.204200    6.565500   32.0  cpm\n",
       "112      2017-05-24 00:54:19  36.043839  140.215360   18.0  cpm\n",
       "114      2017-05-24 00:54:13  41.330300  -73.834000   17.0  cpm\n",
       "115      2017-05-24 00:54:07  41.330300  -73.834000   43.0  cpm\n",
       "118      2017-05-24 00:54:00  42.381242  -71.111946   13.0  cpm\n",
       "119      2017-05-24 00:54:00  42.381242  -71.111946   31.0  cpm\n",
       "120      2017-05-24 00:53:59  37.495123  140.995519   19.0  cpm\n",
       "121      2017-05-24 00:53:52  37.495123  140.995519   57.0  cpm\n",
       "123      2017-05-24 00:53:50  37.366713  140.530970    0.0  cpm\n",
       "124      2017-05-24 00:53:49  37.366713  140.530970   57.0  cpm\n",
       "125      2017-05-24 00:52:39  39.409900  -77.906900   15.0  cpm\n",
       "\n",
       "[100 rows x 5 columns]"
      ]
     },
     "execution_count": 8,
     "metadata": {},
     "output_type": "execute_result"
    }
   ],
   "source": [
    "# working_dataset[\"Country\"] = working_dataset.apply(add_country, axis=1)\n",
    "# working_dataset = working_dataset[working_dataset.Unit == \"cpm\"]\n",
    "# len(working_dataset)\n",
    "# working_dataset.head(100)"
   ]
  },
  {
   "cell_type": "code",
   "execution_count": 40,
   "metadata": {
    "collapsed": false,
    "deletable": true,
    "editable": true,
    "slideshow": {
     "slide_type": "skip"
    }
   },
   "outputs": [
    {
     "data": {
      "text/html": [
       "<div>\n",
       "<table border=\"1\" class=\"dataframe\">\n",
       "  <thead>\n",
       "    <tr style=\"text-align: right;\">\n",
       "      <th></th>\n",
       "      <th>Captured Time</th>\n",
       "      <th>Latitude</th>\n",
       "      <th>Longitude</th>\n",
       "      <th>Value</th>\n",
       "      <th>Unit</th>\n",
       "      <th>Country</th>\n",
       "    </tr>\n",
       "  </thead>\n",
       "  <tbody>\n",
       "    <tr>\n",
       "      <th>259759</th>\n",
       "      <td>2017-05-12 05:20:24</td>\n",
       "      <td>36.071850</td>\n",
       "      <td>129.341573</td>\n",
       "      <td>41.0</td>\n",
       "      <td>cpm</td>\n",
       "      <td>Korea, Republic of</td>\n",
       "    </tr>\n",
       "    <tr>\n",
       "      <th>259760</th>\n",
       "      <td>2017-05-12 05:20:19</td>\n",
       "      <td>36.071843</td>\n",
       "      <td>129.341550</td>\n",
       "      <td>43.0</td>\n",
       "      <td>cpm</td>\n",
       "      <td>Korea, Republic of</td>\n",
       "    </tr>\n",
       "    <tr>\n",
       "      <th>259761</th>\n",
       "      <td>2017-05-12 05:20:14</td>\n",
       "      <td>36.071840</td>\n",
       "      <td>129.341528</td>\n",
       "      <td>40.0</td>\n",
       "      <td>cpm</td>\n",
       "      <td>Korea, Republic of</td>\n",
       "    </tr>\n",
       "    <tr>\n",
       "      <th>259762</th>\n",
       "      <td>2017-05-12 05:20:09</td>\n",
       "      <td>36.071838</td>\n",
       "      <td>129.341518</td>\n",
       "      <td>40.0</td>\n",
       "      <td>cpm</td>\n",
       "      <td>Korea, Republic of</td>\n",
       "    </tr>\n",
       "    <tr>\n",
       "      <th>259763</th>\n",
       "      <td>2017-05-12 05:20:04</td>\n",
       "      <td>36.071838</td>\n",
       "      <td>129.341482</td>\n",
       "      <td>39.0</td>\n",
       "      <td>cpm</td>\n",
       "      <td>Korea, Republic of</td>\n",
       "    </tr>\n",
       "    <tr>\n",
       "      <th>259764</th>\n",
       "      <td>2017-05-12 05:19:59</td>\n",
       "      <td>36.071795</td>\n",
       "      <td>129.341400</td>\n",
       "      <td>41.0</td>\n",
       "      <td>cpm</td>\n",
       "      <td>Korea, Republic of</td>\n",
       "    </tr>\n",
       "    <tr>\n",
       "      <th>259765</th>\n",
       "      <td>2017-05-12 05:19:54</td>\n",
       "      <td>36.071790</td>\n",
       "      <td>129.341400</td>\n",
       "      <td>40.0</td>\n",
       "      <td>cpm</td>\n",
       "      <td>Korea, Republic of</td>\n",
       "    </tr>\n",
       "    <tr>\n",
       "      <th>259766</th>\n",
       "      <td>2017-05-12 05:19:49</td>\n",
       "      <td>36.071770</td>\n",
       "      <td>129.341362</td>\n",
       "      <td>41.0</td>\n",
       "      <td>cpm</td>\n",
       "      <td>Korea, Republic of</td>\n",
       "    </tr>\n",
       "    <tr>\n",
       "      <th>259767</th>\n",
       "      <td>2017-05-12 05:19:44</td>\n",
       "      <td>36.071787</td>\n",
       "      <td>129.341353</td>\n",
       "      <td>41.0</td>\n",
       "      <td>cpm</td>\n",
       "      <td>Korea, Republic of</td>\n",
       "    </tr>\n",
       "    <tr>\n",
       "      <th>259768</th>\n",
       "      <td>2017-05-12 05:19:39</td>\n",
       "      <td>36.071858</td>\n",
       "      <td>129.341385</td>\n",
       "      <td>38.0</td>\n",
       "      <td>cpm</td>\n",
       "      <td>Korea, Republic of</td>\n",
       "    </tr>\n",
       "    <tr>\n",
       "      <th>259769</th>\n",
       "      <td>2017-05-12 05:19:34</td>\n",
       "      <td>36.071892</td>\n",
       "      <td>129.341440</td>\n",
       "      <td>43.0</td>\n",
       "      <td>cpm</td>\n",
       "      <td>Korea, Republic of</td>\n",
       "    </tr>\n",
       "    <tr>\n",
       "      <th>259770</th>\n",
       "      <td>2017-05-12 05:19:29</td>\n",
       "      <td>36.071937</td>\n",
       "      <td>129.341488</td>\n",
       "      <td>45.0</td>\n",
       "      <td>cpm</td>\n",
       "      <td>Korea, Republic of</td>\n",
       "    </tr>\n",
       "    <tr>\n",
       "      <th>259771</th>\n",
       "      <td>2017-05-12 05:19:24</td>\n",
       "      <td>36.071987</td>\n",
       "      <td>129.341535</td>\n",
       "      <td>45.0</td>\n",
       "      <td>cpm</td>\n",
       "      <td>Korea, Republic of</td>\n",
       "    </tr>\n",
       "    <tr>\n",
       "      <th>259772</th>\n",
       "      <td>2017-05-12 05:19:18</td>\n",
       "      <td>36.072032</td>\n",
       "      <td>129.341565</td>\n",
       "      <td>39.0</td>\n",
       "      <td>cpm</td>\n",
       "      <td>Korea, Republic of</td>\n",
       "    </tr>\n",
       "    <tr>\n",
       "      <th>259773</th>\n",
       "      <td>2017-05-12 05:19:13</td>\n",
       "      <td>36.072070</td>\n",
       "      <td>129.341550</td>\n",
       "      <td>39.0</td>\n",
       "      <td>cpm</td>\n",
       "      <td>Korea, Republic of</td>\n",
       "    </tr>\n",
       "  </tbody>\n",
       "</table>\n",
       "</div>"
      ],
      "text/plain": [
       "              Captured Time   Latitude   Longitude  Value Unit  \\\n",
       "259759  2017-05-12 05:20:24  36.071850  129.341573   41.0  cpm   \n",
       "259760  2017-05-12 05:20:19  36.071843  129.341550   43.0  cpm   \n",
       "259761  2017-05-12 05:20:14  36.071840  129.341528   40.0  cpm   \n",
       "259762  2017-05-12 05:20:09  36.071838  129.341518   40.0  cpm   \n",
       "259763  2017-05-12 05:20:04  36.071838  129.341482   39.0  cpm   \n",
       "259764  2017-05-12 05:19:59  36.071795  129.341400   41.0  cpm   \n",
       "259765  2017-05-12 05:19:54  36.071790  129.341400   40.0  cpm   \n",
       "259766  2017-05-12 05:19:49  36.071770  129.341362   41.0  cpm   \n",
       "259767  2017-05-12 05:19:44  36.071787  129.341353   41.0  cpm   \n",
       "259768  2017-05-12 05:19:39  36.071858  129.341385   38.0  cpm   \n",
       "259769  2017-05-12 05:19:34  36.071892  129.341440   43.0  cpm   \n",
       "259770  2017-05-12 05:19:29  36.071937  129.341488   45.0  cpm   \n",
       "259771  2017-05-12 05:19:24  36.071987  129.341535   45.0  cpm   \n",
       "259772  2017-05-12 05:19:18  36.072032  129.341565   39.0  cpm   \n",
       "259773  2017-05-12 05:19:13  36.072070  129.341550   39.0  cpm   \n",
       "\n",
       "                   Country  \n",
       "259759  Korea, Republic of  \n",
       "259760  Korea, Republic of  \n",
       "259761  Korea, Republic of  \n",
       "259762  Korea, Republic of  \n",
       "259763  Korea, Republic of  \n",
       "259764  Korea, Republic of  \n",
       "259765  Korea, Republic of  \n",
       "259766  Korea, Republic of  \n",
       "259767  Korea, Republic of  \n",
       "259768  Korea, Republic of  \n",
       "259769  Korea, Republic of  \n",
       "259770  Korea, Republic of  \n",
       "259771  Korea, Republic of  \n",
       "259772  Korea, Republic of  \n",
       "259773  Korea, Republic of  "
      ]
     },
     "execution_count": 40,
     "metadata": {},
     "output_type": "execute_result"
    }
   ],
   "source": [
    "working_dataset[\"Country\"] = working_dataset.apply(add_country, axis=1)\n",
    "working_dataset.head(15)"
   ]
  },
  {
   "cell_type": "code",
   "execution_count": 16,
   "metadata": {
    "collapsed": false,
    "deletable": true,
    "editable": true
   },
   "outputs": [
    {
     "name": "stdout",
     "output_type": "stream",
     "text": [
      "0.0\n",
      "7485.0\n"
     ]
    },
    {
     "data": {
      "image/png": "[encoded data removed]",
      "text/plain": [
       "<matplotlib.figure.Figure at 0x7fda80829590>"
      ]
     },
     "metadata": {},
     "output_type": "display_data"
    }
   ],
   "source": [
    "working_dataset.Value.hist(bins = 10);\n",
    "print working_dataset.Value.min()\n",
    "print working_dataset.Value.max()"
   ]
  },
  {
   "cell_type": "code",
   "execution_count": 17,
   "metadata": {
    "collapsed": false,
    "deletable": true,
    "editable": true
   },
   "outputs": [
    {
     "data": {
      "image/png": "[encoded data removed]",
      "text/plain": [
       "<matplotlib.figure.Figure at 0x7fda80d95f50>"
      ]
     },
     "metadata": {},
     "output_type": "display_data"
    }
   ],
   "source": [
    "working_dataset['Value'].plot();"
   ]
  },
  {
   "cell_type": "code",
   "execution_count": 18,
   "metadata": {
    "collapsed": false
   },
   "outputs": [
    {
     "data": {
      "image/png": "[encoded data removed]",
      "text/plain": [
       "<matplotlib.figure.Figure at 0x7fda8065ab10>"
      ]
     },
     "metadata": {},
     "output_type": "display_data"
    }
   ],
   "source": [
    "working_dataset['Value'][working_dataset['Value'] < 1000].hist();"
   ]
  },
  {
   "cell_type": "markdown",
   "metadata": {
    "slideshow": {
     "slide_type": "slide"
    }
   },
   "source": [
    "Let's look at just Japan:"
   ]
  },
  {
   "cell_type": "code",
   "execution_count": 20,
   "metadata": {
    "collapsed": false
   },
   "outputs": [
    {
     "data": {
      "image/png": "[encoded data removed]",
      "text/plain": [
       "<matplotlib.figure.Figure at 0x7fda809c1c90>"
      ]
     },
     "metadata": {},
     "output_type": "display_data"
    }
   ],
   "source": [
    "working_dataset['Value'][working_dataset['Country'] == 'Japan'].hist();"
   ]
  },
  {
   "cell_type": "code",
   "execution_count": 24,
   "metadata": {
    "collapsed": false
   },
   "outputs": [
    {
     "name": "stdout",
     "output_type": "stream",
     "text": [
      "36.3570976154\n",
      "139.258264165\n"
     ]
    },
    {
     "data": {
      "text/plain": [
       "True"
      ]
     },
     "execution_count": 24,
     "metadata": {},
     "output_type": "execute_result"
    }
   ],
   "source": [
    "url = \"mymap_Japan.html\"\n",
    "map_lat = np.mean(working_dataset['Latitude'][working_dataset['Country'] == 'Japan'])\n",
    "map_long = np.mean(working_dataset['Longitude'][working_dataset['Country'] == 'Japan'])\n",
    "print map_lat\n",
    "print map_long\n",
    "gmap = gmplot.GoogleMapPlotter(map_lat, map_long, 6)\n",
    "\n",
    "# gmap.scatter(lats, longs, 'cornflowerblue', size = 40, marker=True)\n",
    "gmap.heatmap(working_dataset['Latitude'][working_dataset['Country'] == 'Japan'], working_dataset['Longitude'][working_dataset['Country'] == 'Japan'])\n",
    "\n",
    "gmap.draw(url)\n",
    "webbrowser.open(url)"
   ]
  },
  {
   "cell_type": "markdown",
   "metadata": {
    "slideshow": {
     "slide_type": "slide"
    }
   },
   "source": [
    "Now let's look closer at where the higher levels are..."
   ]
  },
  {
   "cell_type": "code",
   "execution_count": 27,
   "metadata": {
    "collapsed": false
   },
   "outputs": [
    {
     "name": "stdout",
     "output_type": "stream",
     "text": [
      "37.4929465869\n",
      "140.918459642\n"
     ]
    },
    {
     "data": {
      "text/plain": [
       "True"
      ]
     },
     "execution_count": 27,
     "metadata": {},
     "output_type": "execute_result"
    }
   ],
   "source": [
    "url = \"mymap_Japan_2.html\"\n",
    "map_lat = np.mean(working_dataset['Latitude'][working_dataset['Country'] == 'Japan'][working_dataset['Value'] > 100])\n",
    "map_long = np.mean(working_dataset['Longitude'][working_dataset['Country'] == 'Japan'][working_dataset['Value'] > 100])\n",
    "print map_lat\n",
    "print map_long\n",
    "gmap = gmplot.GoogleMapPlotter(map_lat, map_long, 9)\n",
    "\n",
    "# gmap.scatter(lats, longs, 'cornflowerblue', size = 40, marker=True)\n",
    "gmap.heatmap(working_dataset['Latitude'][working_dataset['Country'] == 'Japan'][working_dataset['Value'] > 100], working_dataset['Longitude'][working_dataset['Country'] == 'Japan'][working_dataset['Value'] > 100])\n",
    "\n",
    "gmap.draw(url)\n",
    "webbrowser.open(url)"
   ]
  },
  {
   "cell_type": "markdown",
   "metadata": {
    "slideshow": {
     "slide_type": "slide"
    }
   },
   "source": [
    "But what areas are really high? These may not be right..."
   ]
  },
  {
   "cell_type": "code",
   "execution_count": 30,
   "metadata": {
    "collapsed": false
   },
   "outputs": [
    {
     "name": "stdout",
     "output_type": "stream",
     "text": [
      "53.2042\n",
      "6.5655\n"
     ]
    },
    {
     "data": {
      "text/plain": [
       "True"
      ]
     },
     "execution_count": 30,
     "metadata": {},
     "output_type": "execute_result"
    }
   ],
   "source": [
    "url = \"mymap_high.html\"\n",
    "map_lat = np.mean(working_dataset['Latitude'][working_dataset['Value'] > 1000])\n",
    "map_long = np.mean(working_dataset['Longitude'][working_dataset['Value'] > 1000])\n",
    "print map_lat\n",
    "print map_long\n",
    "gmap = gmplot.GoogleMapPlotter(map_lat, map_long, 2)\n",
    "\n",
    "# gmap.scatter(lats, longs, 'cornflowerblue', size = 40, marker=True)\n",
    "gmap.heatmap(working_dataset['Latitude'][working_dataset['Value'] > 1000], working_dataset['Longitude'][working_dataset['Value'] > 1000])\n",
    "\n",
    "gmap.draw(url)\n",
    "webbrowser.open(url)"
   ]
  },
  {
   "cell_type": "markdown",
   "metadata": {
    "slideshow": {
     "slide_type": "slide"
    }
   },
   "source": [
    "From this, we can see the dutch can't be trusted, or it is a horridly dangerous place to visit..."
   ]
  }
 ],
 "metadata": {
  "celltoolbar": "Slideshow",
  "kernelspec": {
   "display_name": "Python 2",
   "language": "python",
   "name": "python2"
  },
  "language_info": {
   "codemirror_mode": {
    "name": "ipython",
    "version": 2
   },
   "file_extension": ".py",
   "mimetype": "text/x-python",
   "name": "python",
   "nbconvert_exporter": "python",
   "pygments_lexer": "ipython2",
   "version": "2.7.12"
  }
 },
 "nbformat": 4,
 "nbformat_minor": 2
}
